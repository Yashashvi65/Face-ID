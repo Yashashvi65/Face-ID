{
 "cells": [
  {
   "cell_type": "code",
   "execution_count": 2,
   "metadata": {},
   "outputs": [],
   "source": [
    "import cv2\n",
    "import os\n",
    "import numpy as np\n",
    "detector=cv2.CascadeClassifier(\"./haarcascade_frontalface_default.xml\")\n"
   ]
  },
  {
   "cell_type": "code",
   "execution_count": null,
   "metadata": {},
   "outputs": [],
   "source": []
  },
  {
   "cell_type": "code",
   "execution_count": 4,
   "metadata": {},
   "outputs": [
    {
     "name": "stdin",
     "output_type": "stream",
     "text": [
      "Enter your name: Trump\n"
     ]
    }
   ],
   "source": [
    "name=input(\"Enter your name:\")\n",
    "frames=[]\n",
    "outputs=[]\n",
    "\n",
    "cap=cv2.VideoCapture(0)\n",
    "\n",
    "while True :\n",
    "    ret,frame=cap.read()\n",
    "    if ret:\n",
    "        faces=detector.detectMultiScale(frame)\n",
    "        for face in faces:\n",
    "            x,y,w,h=face\n",
    "            cut=frame[y:y+h,x:x+w]\n",
    "            fix=cv2.resize(cut,(200,200))\n",
    "            gray=cv2.cvtColor(fix,cv2.COLOR_BGR2GRAY)\n",
    "        cv2.imshow(\"My screen\",frame)\n",
    "        cv2.imshow(\"My face\",gray)\n",
    "    key=cv2.waitKey(1)\n",
    "    if key==ord(\"q\"):\n",
    "        break\n",
    "    if key==ord(\"c\"):\n",
    "        #cv2.imwrite(name + \".jpg\",frame)\n",
    "        frames.append(gray.flatten())\n",
    "        outputs.append([name])\n",
    "x=np.array(frames)\n",
    "y=np.array(outputs)\n",
    "data=np.hstack([y,x])\n",
    "f_name=\"face_data.npy\"\n",
    "if os.path.exists(f_name):\n",
    "    old=np.load(f_name)\n",
    "    data=np.vstack([old,data])\n",
    "    \n",
    "np.save(f_name,data)\n",
    "#Suppose we took 4 photos then data.shape=(4,10001)\n",
    "\n",
    "cap.release()\n",
    "cv2.destroyAllWindows()\n",
    "         "
   ]
  },
  {
   "cell_type": "code",
   "execution_count": null,
   "metadata": {},
   "outputs": [],
   "source": []
  }
 ],
 "metadata": {
  "kernelspec": {
   "display_name": "Python 3",
   "language": "python",
   "name": "python3"
  },
  "language_info": {
   "codemirror_mode": {
    "name": "ipython",
    "version": 3
   },
   "file_extension": ".py",
   "mimetype": "text/x-python",
   "name": "python",
   "nbconvert_exporter": "python",
   "pygments_lexer": "ipython3",
   "version": "3.6.10"
  }
 },
 "nbformat": 4,
 "nbformat_minor": 4
}
