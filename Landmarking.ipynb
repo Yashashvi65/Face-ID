{
 "cells": [
  {
   "cell_type": "code",
   "execution_count": 1,
   "metadata": {},
   "outputs": [],
   "source": [
    "import cv2\n",
    "import dlib\n",
    "detector=dlib.get_frontal_face_detector()\n",
    "predictor=dlib.shape_predictor(\"shape_predictor_68_face_landmarks.dat\")\n",
    "cap=cv2.VideoCapture(0)\n",
    "while True:\n",
    "    ret,frame=cap.read()\n",
    "\n",
    "  \n",
    "    faces=detector(frame)\n",
    "    for face in faces:\n",
    "        landmarks=predictor(frame,face)\n",
    "        #print(landmarks.parts())\n",
    "        #nose=landmarks.parts()[28]\n",
    "        #print(nose.x,nose.y)\n",
    "        #cv2.circle(frame,(nose.x,nose.y),2,(255,0,0),3)\n",
    "        for point in landmarks.parts():\n",
    "            cv2.circle(frame,(point.x,point.y),2,(255,0,0),3)\n",
    "    if ret:\n",
    "        cv2.imshow(\"My Screen\",frame)\n",
    "    key=cv2.waitKey(1)\n",
    "    if key==ord(\"q\"):\n",
    "        break\n",
    "cap.release()\n",
    "cv2.destroyAllWindows()\n",
    "\n",
    "\n"
   ]
  },
  {
   "cell_type": "code",
   "execution_count": null,
   "metadata": {},
   "outputs": [],
   "source": []
  }
 ],
 "metadata": {
  "kernelspec": {
   "display_name": "Python 3",
   "language": "python",
   "name": "python3"
  },
  "language_info": {
   "codemirror_mode": {
    "name": "ipython",
    "version": 3
   },
   "file_extension": ".py",
   "mimetype": "text/x-python",
   "name": "python",
   "nbconvert_exporter": "python",
   "pygments_lexer": "ipython3",
   "version": "3.7.4"
  }
 },
 "nbformat": 4,
 "nbformat_minor": 4
}
